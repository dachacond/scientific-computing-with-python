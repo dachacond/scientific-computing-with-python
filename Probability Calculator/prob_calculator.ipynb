{
 "cells": [
  {
   "cell_type": "code",
   "execution_count": 1,
   "id": "f47718ab",
   "metadata": {},
   "outputs": [],
   "source": [
    "import copy\n",
    "import random\n",
    "# Consider using the modules imported above."
   ]
  },
  {
   "cell_type": "code",
   "execution_count": 46,
   "id": "c07cba8b",
   "metadata": {},
   "outputs": [],
   "source": [
    "class Hat:\n",
    "    \n",
    "    def __init__(self, **kwargs):\n",
    "        \n",
    "        self.dict = kwargs\n",
    "        self.contents = []\n",
    "        \n",
    "        for key in self.dict:\n",
    "            for value in range(self.dict[key]):\n",
    "                self.contents.append(key)\n",
    "        self.contents_copy = self.contents.copy()   \n",
    "    \n",
    "    def draw(self, number_balls):\n",
    "        \n",
    "        balls = []\n",
    "        contents2 = self.contents_copy\n",
    "        \n",
    "        if len(self.contents) > number_balls:\n",
    "            \n",
    "            for ball in range(number_balls):\n",
    "                \n",
    "                random_index = random.randint(0, len(contents2)-1)\n",
    "                balls.append(contents2[random_index])\n",
    "                del contents2[random_index]\n",
    "            \n",
    "            return balls\n",
    "        \n",
    "        else:\n",
    "            return contents2\n",
    "    \n",
    "    def copy(self):\n",
    "        return copy.deepcopy(self)\n",
    "        "
   ]
  },
  {
   "cell_type": "code",
   "execution_count": 41,
   "id": "df718074",
   "metadata": {},
   "outputs": [
    {
     "name": "stdout",
     "output_type": "stream",
     "text": [
      "['green', 'green', 'yellow', 'red']\n",
      "['blue', 'blue', 'red', 'yellow', 'yellow', 'yellow', 'yellow', 'green', 'green']\n"
     ]
    }
   ],
   "source": [
    "my_hat = Hat(blue=2, red=1, yellow=4, green=2)\n",
    "\n",
    "print(my_hat.draw(4))\n",
    "print(my_hat.contents)"
   ]
  },
  {
   "cell_type": "code",
   "execution_count": 47,
   "id": "1c76d512",
   "metadata": {},
   "outputs": [],
   "source": [
    "def experiment(hat, expected_balls, num_balls_drawn, num_experiments):\n",
    "    success = 0\n",
    "    for i in range(num_experiments):\n",
    "        hat_copy = hat.copy()\n",
    "        balls_drawn = hat_copy.draw(num_balls_drawn)\n",
    "        matches_expected = True\n",
    "        for color, count in expected_balls.items():\n",
    "            if balls_drawn.count(color) < count:\n",
    "                matches_expected = False\n",
    "                break\n",
    "        if matches_expected:\n",
    "            success += 1\n",
    "    return success / num_experiments\n"
   ]
  },
  {
   "cell_type": "code",
   "execution_count": 48,
   "id": "b86cfb0d",
   "metadata": {},
   "outputs": [
    {
     "name": "stdout",
     "output_type": "stream",
     "text": [
      "0.078\n"
     ]
    }
   ],
   "source": [
    "hat = Hat(blue=5, red=4, green=2)\n",
    "expected_balls = {\"red\": 1, \"green\": 2}\n",
    "probability = experiment(hat, expected_balls, 4, 10000)\n",
    "print(probability)\n"
   ]
  }
 ],
 "metadata": {
  "kernelspec": {
   "display_name": "Python 3 (ipykernel)",
   "language": "python",
   "name": "python3"
  },
  "language_info": {
   "codemirror_mode": {
    "name": "ipython",
    "version": 3
   },
   "file_extension": ".py",
   "mimetype": "text/x-python",
   "name": "python",
   "nbconvert_exporter": "python",
   "pygments_lexer": "ipython3",
   "version": "3.9.13"
  }
 },
 "nbformat": 4,
 "nbformat_minor": 5
}
